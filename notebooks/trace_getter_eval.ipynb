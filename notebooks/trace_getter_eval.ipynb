{
 "cells": [
  {
   "cell_type": "code",
   "execution_count": 102,
   "metadata": {},
   "outputs": [],
   "source": [
    "%matplotlib widget\n",
    "import matplotlib.pyplot as plt\n",
    "from matplotlib.animation import FuncAnimation\n",
    "import matplotlib.animation as mplani\n",
    "from functools import partial\n",
    "\n",
    "from pycocotools.coco import COCO\n",
    "import glob\n",
    "import json\n",
    "from torchvision.ops import box_iou\n",
    "import torch\n",
    "from detectron2.structures import BoxMode\n",
    "from tqdm.auto import tqdm\n",
    "import numpy as np\n",
    "import matplotlib.pyplot as plt\n",
    "from matplotlib.patches import Rectangle\n",
    "from collections import defaultdict\n",
    "from pprint import pprint\n",
    "from scipy.signal import medfilt\n",
    "import os\n",
    "import copy\n",
    "from PIL import Image\n",
    "import pickle\n",
    "import warnings\n",
    "warnings.filterwarnings(\"ignore\")"
   ]
  },
  {
   "cell_type": "code",
   "execution_count": 2,
   "metadata": {},
   "outputs": [
    {
     "name": "stdout",
     "output_type": "stream",
     "text": [
      "loading annotations into memory...\n",
      "Done (t=1.75s)\n",
      "creating index...\n",
      "index created!\n"
     ]
    }
   ],
   "source": [
    "gt_path = \"../data/val_annot_pos_neg_strict_frame_cocofied_vc.json\"\n",
    "gt_coco = COCO(gt_path)"
   ]
  },
  {
   "cell_type": "code",
   "execution_count": 78,
   "metadata": {},
   "outputs": [
    {
     "name": "stdout",
     "output_type": "stream",
     "text": [
      "{'d5935c29-1b8d-417d-9bbb-5ebd47e9256d'}\n"
     ]
    }
   ],
   "source": [
    "print(set([os.path.dirname(img['file_name']) for img in gt_coco.loadImgs(duid2iids_ordered[\"val_0000000001\"])]))"
   ]
  },
  {
   "cell_type": "code",
   "execution_count": 79,
   "metadata": {},
   "outputs": [
    {
     "name": "stdout",
     "output_type": "stream",
     "text": [
      "{'dfe962ab-6aa7-4888-9378-796817a30ab6'}\n"
     ]
    }
   ],
   "source": [
    "print(set([os.path.dirname(img['file_name']) for img in gt_coco.loadImgs(duid2iids_ordered[\"val_0000000005\"])]))"
   ]
  },
  {
   "cell_type": "code",
   "execution_count": 3,
   "metadata": {},
   "outputs": [
    {
     "data": {
      "text/plain": [
       "['/scratch/shared/beegfs/prannay/ego4d_data/ckpt/perframe_run/inference_vq2d_val_pos_neg_strict_frame_vc/coco_instances_results_0000000_0000002.json',\n",
       " '/scratch/shared/beegfs/prannay/ego4d_data/ckpt/perframe_run/inference_vq2d_val_pos_neg_strict_frame_vc/coco_instances_results_0000001_0000002.json']"
      ]
     },
     "execution_count": 3,
     "metadata": {},
     "output_type": "execute_result"
    }
   ],
   "source": [
    "dt_paths = sorted(glob.glob(\"/scratch/shared/beegfs/prannay/ego4d_data/ckpt/perframe_run/inference_vq2d_val_pos_neg_strict_frame_vc/coco*.json\"))\n",
    "dt_paths"
   ]
  },
  {
   "cell_type": "code",
   "execution_count": 4,
   "metadata": {},
   "outputs": [],
   "source": [
    "detections = []\n",
    "for dt_path in dt_paths:\n",
    "    with open(dt_path, \"r\") as fp:\n",
    "        detections += json.load(fp)"
   ]
  },
  {
   "cell_type": "code",
   "execution_count": 5,
   "metadata": {},
   "outputs": [
    {
     "name": "stdout",
     "output_type": "stream",
     "text": [
      "Loading and preparing results...\n",
      "DONE (t=49.05s)\n",
      "creating index...\n",
      "index created!\n"
     ]
    }
   ],
   "source": [
    "dt_coco = gt_coco.loadRes(detections)"
   ]
  },
  {
   "cell_type": "code",
   "execution_count": 6,
   "metadata": {},
   "outputs": [],
   "source": [
    "duids = set([gt_coco.imgs[iid][\"dataset_uid\"] for iid in gt_coco.imgs])\n",
    "duid2iids = defaultdict(set)\n",
    "for iid in gt_coco.imgs:\n",
    "    duid = gt_coco.imgs[iid][\"dataset_uid\"]\n",
    "    duid2iids[duid].add(iid)"
   ]
  },
  {
   "cell_type": "code",
   "execution_count": 7,
   "metadata": {},
   "outputs": [],
   "source": [
    "# get iids for each duid in frame order\n",
    "duid2iids_ordered = {}\n",
    "for duid in duids:\n",
    "    iids = duid2iids[duid]\n",
    "    imgs = gt_coco.loadImgs(iids)\n",
    "    iids = [img['id'] for img in sorted(imgs, key=lambda x: int(os.path.basename(x[\"file_name\"]).split(\"_\")[1].split(\".\")[0]))]\n",
    "    duid2iids_ordered[duid] = iids"
   ]
  },
  {
   "cell_type": "code",
   "execution_count": 8,
   "metadata": {},
   "outputs": [
    {
     "name": "stdout",
     "output_type": "stream",
     "text": [
      "['17e7a80c-b5ca-435f-a29e-0d026fcf2e96/frame_0000031.png',\n",
      " '17e7a80c-b5ca-435f-a29e-0d026fcf2e96/frame_0000032.png',\n",
      " '17e7a80c-b5ca-435f-a29e-0d026fcf2e96/frame_0000033.png',\n",
      " '17e7a80c-b5ca-435f-a29e-0d026fcf2e96/frame_0000034.png',\n",
      " '17e7a80c-b5ca-435f-a29e-0d026fcf2e96/frame_0000035.png',\n",
      " '17e7a80c-b5ca-435f-a29e-0d026fcf2e96/frame_0000036.png',\n",
      " '17e7a80c-b5ca-435f-a29e-0d026fcf2e96/frame_0000037.png',\n",
      " '17e7a80c-b5ca-435f-a29e-0d026fcf2e96/frame_0000038.png',\n",
      " '17e7a80c-b5ca-435f-a29e-0d026fcf2e96/frame_0000039.png',\n",
      " '17e7a80c-b5ca-435f-a29e-0d026fcf2e96/frame_0000040.png']\n"
     ]
    }
   ],
   "source": [
    "pprint([dt_coco.loadImgs(a)[0]['file_name'] for a in duid2iids_ordered[duid]])"
   ]
  },
  {
   "cell_type": "code",
   "execution_count": 9,
   "metadata": {},
   "outputs": [
    {
     "data": {
      "application/vnd.jupyter.widget-view+json": {
       "model_id": "3fbc7294fb2e4175bd43ddb17e9f2427",
       "version_major": 2,
       "version_minor": 0
      },
      "text/plain": [
       "  0%|          | 0/4504 [00:00<?, ?it/s]"
      ]
     },
     "metadata": {},
     "output_type": "display_data"
    }
   ],
   "source": [
    "# get the max score and ann_id for each frame from duid2iids_ordered\n",
    "duid2highest = defaultdict(list)\n",
    "for duid, iids in tqdm(duid2iids_ordered.items(), total=len(duid2iids_ordered)):\n",
    "    # print(iids)\n",
    "    for iid in iids:\n",
    "        dt_ann_ids = dt_coco.getAnnIds(imgIds=iid)\n",
    "        dt_anns = dt_coco.loadAnns(dt_ann_ids)\n",
    "        assert len(dt_anns)\n",
    "        gt_ann_ids = gt_coco.getAnnIds(imgIds=iid)\n",
    "        pos_frame = len(gt_ann_ids) > 0\n",
    "        dt_anns = sorted(dt_anns, key=lambda x: x['score'], reverse=True)\n",
    "        top_ann = copy.deepcopy(dt_anns[0])\n",
    "        top_ann['positive'] = pos_frame\n",
    "        # check iou with gt if pos_frame\n",
    "        if pos_frame:\n",
    "            gt_ann = gt_coco.loadAnns(gt_ann_ids)[0]\n",
    "            bbox_gt = gt_ann['bbox']\n",
    "            bbox_gt = BoxMode.convert(bbox_gt, BoxMode.XYWH_ABS, BoxMode.XYXY_ABS)\n",
    "            bbox_dt = top_ann['bbox']\n",
    "            bbox_dt = BoxMode.convert(bbox_dt, BoxMode.XYWH_ABS, BoxMode.XYXY_ABS)\n",
    "            iou = box_iou(torch.tensor([bbox_gt]), torch.tensor([bbox_dt]))[0][0].item()\n",
    "            top_ann['iou'] = iou\n",
    "        else:\n",
    "            top_ann['iou'] = -1.0\n",
    "        duid2highest[duid].append(top_ann)"
   ]
  },
  {
   "cell_type": "code",
   "execution_count": 105,
   "metadata": {},
   "outputs": [],
   "source": [
    "def get_medfilt_scores(duid2highest, gt_coco, duid):\n",
    "    scores = [a['score'] for a in duid2highest[duid]]\n",
    "    file_names = [gt_coco.loadImgs(a)[0]['file_name'] for a in duid2iids_ordered[duid]]\n",
    "    fnos = [int(os.path.basename(fn).split(\"_\")[1].split(\".\")[0]) for fn in file_names]\n",
    "    scores_med = medfilt(scores, kernel_size=5).tolist()\n",
    "    gt = [a['positive'] for a in duid2highest[duid]]\n",
    "    ious = [a['iou'] for a in duid2highest[duid]]\n",
    "    return fnos, scores_med, scores, gt, ious"
   ]
  },
  {
   "cell_type": "code",
   "execution_count": 106,
   "metadata": {},
   "outputs": [
    {
     "data": {
      "application/vnd.jupyter.widget-view+json": {
       "model_id": "0f1ed75dee3c4e3ebb8a12ce6c118baf",
       "version_major": 2,
       "version_minor": 0
      },
      "text/plain": [
       "  0%|          | 0/4504 [00:00<?, ?it/s]"
      ]
     },
     "metadata": {},
     "output_type": "display_data"
    }
   ],
   "source": [
    "fnos = []\n",
    "scores_med = []\n",
    "scores = []\n",
    "gts = []\n",
    "ious = []\n",
    "for duid in tqdm(sorted(duids), total=len(duids)):\n",
    "    fno, score_med, score_med, gt, iou = get_medfilt_scores(duid2highest, gt_coco, duid)\n",
    "    fnos.append(np.array(fno))\n",
    "    scores_med.append(np.array(score_med))\n",
    "    scores.append(np.array(score_med))\n",
    "    gts.append(np.array(gt))\n",
    "    ious.append(iou)"
   ]
  },
  {
   "cell_type": "code",
   "execution_count": 107,
   "metadata": {},
   "outputs": [],
   "source": [
    "# lets save the scores, median scores, fnos, gt\n",
    "save_data = {\n",
    "    \"fnos\": fnos,\n",
    "    \"scores\": scores,\n",
    "    \"scores_med\": scores_med,\n",
    "    \"gts\": gts,\n",
    "    \"duids\": sorted(duids),\n",
    "    \"ious\": ious,\n",
    "}\n",
    "with open(\"/scratch/shared/beegfs/prannay/ego4d_data/ckpt/perframe_run/inference_vq2d_val_pos_neg_strict_frame_vc/duid2scores.pkl\", \"wb\") as fp:\n",
    "    pickle.dump(save_data, fp)"
   ]
  },
  {
   "cell_type": "code",
   "execution_count": 13,
   "metadata": {},
   "outputs": [],
   "source": [
    "def plot_score_trace(duid2highest, gt_coco, duid, iou_thresh=0.5):\n",
    "    file_names = [gt_coco.loadImgs(a)[0]['file_name'] for a in duid2iids_ordered[duid]]\n",
    "    fnos = [int(os.path.basename(a).split(\"_\")[1].split(\".\")[0]) for a in file_names]\n",
    "    scores = [a['score'] for a in duid2highest[duid]]\n",
    "    scores_med = medfilt(scores, kernel_size=5).tolist()\n",
    "    # print(scores)\n",
    "    pos = [a['positive'] for a in duid2highest[duid]]\n",
    "    correct = [a['iou'] > iou_thresh for a in duid2highest[duid]]\n",
    "    scores_true_pos = [sc for sc, p, c in zip(scores, pos, correct) if p and c]\n",
    "    scores_missed_pos = [sc for sc, p, c in zip(scores, pos, correct) if p and not c]\n",
    "    scores_negative = [sc for sc, p, c in zip(scores, pos, correct) if not p]\n",
    "\n",
    "    scores_med_true_pos = [sc for sc, p, c in zip(scores_med, pos, correct) if p and c]\n",
    "    scores_med_missed_pos = [sc for sc, p, c in zip(scores_med, pos, correct) if p and not c]\n",
    "    scores_med_negative = [sc for sc, p, c in zip(scores_med, pos, correct) if not p]\n",
    "\n",
    "    fnos_true_pos = [fno for fno, p, c in zip(fnos, pos, correct) if p and c]\n",
    "    fnos_missed_pos = [fno for fno, p, c in zip(fnos, pos, correct) if p and not c]\n",
    "    fnos_negative = [fno for fno, p, c in zip(fnos, pos, correct) if not p]\n",
    "    fig, ax = plt.subplots(2, 1, figsize=(8, 8))\n",
    "    ax[0].plot(fnos, scores, c=\"k\")\n",
    "    ax[0].plot(fnos_true_pos, scores_true_pos, c=\"y\", marker=\"o\", ls=\"None\", ms=10)\n",
    "    ax[0].plot(fnos_missed_pos, scores_missed_pos, c=\"b\", marker=\"o\", ls=\"None\", ms=10)\n",
    "    ax[0].plot(fnos_negative, scores_negative, c=\"b\", marker=\"x\", ls=\"None\", ms=10)\n",
    "\n",
    "    ax[1].plot(fnos, scores_med, c=\"k\")\n",
    "    ax[1].plot(fnos_true_pos, scores_med_true_pos, c=\"y\", marker=\"o\", ls=\"None\", ms=10)\n",
    "    ax[1].plot(fnos_missed_pos, scores_med_missed_pos, c=\"b\", marker=\"o\", ls=\"None\", ms=10)\n",
    "    ax[1].plot(fnos_negative, scores_med_negative, c=\"b\", marker=\"x\", ls=\"None\", ms=10)\n",
    "\n",
    "    # save the plot\n",
    "    # med_tog = \"med\" if med_filt else \"raw\"\n",
    "    file_name = f\"score_trace_{duid}.pdf\"\n",
    "    directory = \"/scratch/shared/beegfs/prannay/ego4d_data/ckpt/perframe_run/inference_vq2d_val_pos_neg_strict_frame_vc/traces/\"\n",
    "    plt.tight_layout()\n",
    "    # plt.savefig(os.path.join(directory, file_name))\n",
    "    plt.show()"
   ]
  },
  {
   "cell_type": "code",
   "execution_count": 14,
   "metadata": {},
   "outputs": [
    {
     "data": {
      "application/vnd.jupyter.widget-view+json": {
       "model_id": "3b67b13f6561468281a36c61ce457e3f",
       "version_major": 2,
       "version_minor": 0
      },
      "text/plain": [
       "  0%|          | 0/4504 [00:00<?, ?it/s]"
      ]
     },
     "metadata": {},
     "output_type": "display_data"
    },
    {
     "name": "stdout",
     "output_type": "stream",
     "text": [
      "val_0000000005\n"
     ]
    },
    {
     "data": {
      "application/vnd.jupyter.widget-view+json": {
       "model_id": "68e5acb2e0f44e098189fdd54de10b1b",
       "version_major": 2,
       "version_minor": 0
      },
      "image/png": "[encoded data removed]",
      "text/html": [
       "\n",
       "            <div style=\"display: inline-block;\">\n",
       "                <div class=\"jupyter-widgets widget-label\" style=\"text-align: center;\">\n",
       "                    Figure\n",
       "                </div>\n",
       "                <img src='data:image/png;base64,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' width=800.0/>\n",
       "            </div>\n",
       "        "
      ],
      "text/plain": [
       "Canvas(toolbar=Toolbar(toolitems=[('Home', 'Reset original view', 'home', 'home'), ('Back', 'Back to previous …"
      ]
     },
     "metadata": {},
     "output_type": "display_data"
    }
   ],
   "source": [
    "run_save = True\n",
    "if run_save:\n",
    "    import warnings\n",
    "    warnings.filterwarnings(\"ignore\")\n",
    "    for duid in tqdm(sorted(sorted(duids)[5:6]), total=len(duids)):\n",
    "        print(duid)\n",
    "        plot_score_trace(duid2highest, gt_coco, duid, iou_thresh=0.3)\n",
    "    warnings.filterwarnings(\"default\")"
   ]
  },
  {
   "cell_type": "code",
   "execution_count": 15,
   "metadata": {},
   "outputs": [
    {
     "data": {
      "text/plain": [
       "[{'image_id': 318,\n",
       "  'category_id': 1,\n",
       "  'bbox': [1.639207363128662,\n",
       "   1052.9156494140625,\n",
       "   99.1135482788086,\n",
       "   27.0843505859375],\n",
       "  'score': 0.18051107227802277,\n",
       "  'segmentation': [[1.639207363128662,\n",
       "    1052.9156494140625,\n",
       "    1.639207363128662,\n",
       "    1080.0,\n",
       "    100.75275564193726,\n",
       "    1080.0,\n",
       "    100.75275564193726,\n",
       "    1052.9156494140625]],\n",
       "  'area': 2684.4260893994942,\n",
       "  'id': 8599809,\n",
       "  'iscrowd': 0,\n",
       "  'positive': True,\n",
       "  'iou': 0.6692595481872559},\n",
       " {'image_id': 319,\n",
       "  'category_id': 1,\n",
       "  'bbox': [6.519870758056641,\n",
       "   1008.3377075195312,\n",
       "   82.25833129882812,\n",
       "   67.38067626953125],\n",
       "  'score': 0.9050368070602417,\n",
       "  'segmentation': [[6.519870758056641,\n",
       "    1008.3377075195312,\n",
       "    6.519870758056641,\n",
       "    1075.7183837890625,\n",
       "    88.77820205688477,\n",
       "    1075.7183837890625,\n",
       "    88.77820205688477,\n",
       "    1008.3377075195312]],\n",
       "  'area': 5542.621991718188,\n",
       "  'id': 20353,\n",
       "  'iscrowd': 0,\n",
       "  'positive': True,\n",
       "  'iou': 0.7571434378623962},\n",
       " {'image_id': 320,\n",
       "  'category_id': 1,\n",
       "  'bbox': [1.0813415050506592,\n",
       "   972.7745971679688,\n",
       "   102.7400131225586,\n",
       "   104.36639404296875],\n",
       "  'score': 0.9687510132789612,\n",
       "  'segmentation': [[1.0813415050506592,\n",
       "    972.7745971679688,\n",
       "    1.0813415050506592,\n",
       "    1077.1409912109375,\n",
       "    103.82135462760925,\n",
       "    1077.1409912109375,\n",
       "    103.82135462760925,\n",
       "    972.7745971679688]],\n",
       "  'area': 10722.60469352873,\n",
       "  'id': 8599937,\n",
       "  'iscrowd': 0,\n",
       "  'positive': True,\n",
       "  'iou': 0.8561103940010071}]"
      ]
     },
     "execution_count": 15,
     "metadata": {},
     "output_type": "execute_result"
    }
   ],
   "source": [
    "duid2highest[\"val_0000000005\"][:3]"
   ]
  },
  {
   "cell_type": "code",
   "execution_count": 92,
   "metadata": {},
   "outputs": [],
   "source": [
    "def plot_frame(frame, ax=None):\n",
    "    image = Image.open(frame['file_name'])\n",
    "    fno = int(os.path.basename(frame['file_name']).split(\"_\")[1].split(\".\")[0])\n",
    "    bbox = frame['bbox']\n",
    "    score = frame['score']\n",
    "    positive = frame['positive']\n",
    "    correct = frame['iou'] > 0.5\n",
    "\n",
    "    box_colour = \"g\" if positive and correct else \"y\" if positive and not correct else \"r\"\n",
    "\n",
    "    # fig, ax = plt.subplots(1, 1, figsize=(20, 20))\n",
    "    ax[1].clear()\n",
    "    ax[1].imshow(image)\n",
    "    ax[1].add_patch(Rectangle((bbox[0]-5, bbox[1]-5), bbox[2]+5, bbox[3]+5, fill=False, edgecolor=box_colour, linewidth=10))\n",
    "    ax[1].set_title(f\"Frame: {fno}, Score: {score:4.2f}, Positive: {positive}, Correct: {correct}\")\n",
    "    ax[1].set_axis_off()\n",
    "    \n",
    "    plot_colour = \"y\" if correct else \"b\"\n",
    "    plot_marker = \"o\" if positive else \"x\"\n",
    "    ax[0].plot(fno, score, c=plot_colour, marker=plot_marker, ls=\"None\", ms=10)\n",
    "    ax[0].set_xlim([frame['start_frame']-2, frame['end_frame']+2])\n",
    "    ax[0].set_ylim([0.0, 1.0])\n",
    "    return ax\n",
    "\n",
    "def create_frames_from_duid(duid, gt_coco, duid2highest):\n",
    "    frames = copy.deepcopy(duid2highest[duid])\n",
    "    for frame in frames:\n",
    "        frame['file_name'] = os.path.join(\n",
    "            \"/scratch/shared/beegfs/prannay/ego4d_data/images_val/\",\n",
    "            gt_coco.loadImgs(frame['image_id'])[0]['file_name'],\n",
    "        )\n",
    "        frame['frame_no'] = int(os.path.basename(frame['file_name']).split(\"_\")[1].split(\".\")[0])\n",
    "    for frame in frames:\n",
    "        frame['start_frame'] = frames[0]['frame_no']\n",
    "        frame['end_frame'] = frames[-1]['frame_no']\n",
    "    return frames"
   ]
  },
  {
   "cell_type": "code",
   "execution_count": null,
   "metadata": {},
   "outputs": [],
   "source": []
  },
  {
   "cell_type": "code",
   "execution_count": 73,
   "metadata": {},
   "outputs": [],
   "source": [
    "duid_to_plot = \"val_0000000001\"\n",
    "frames_to_plot = create_frames_from_duid(duid_to_plot, gt_coco, duid2highest)"
   ]
  },
  {
   "cell_type": "code",
   "execution_count": 74,
   "metadata": {},
   "outputs": [],
   "source": [
    "with open(\"temp_frames.json\", \"w\") as fp:\n",
    "    json.dump(frames_to_plot, fp)"
   ]
  },
  {
   "cell_type": "code",
   "execution_count": 75,
   "metadata": {},
   "outputs": [],
   "source": [
    "with open(\"temp_frames.json\", \"r\") as fp:\n",
    "    frames_to_plot = json.load(fp)"
   ]
  },
  {
   "cell_type": "code",
   "execution_count": 38,
   "metadata": {},
   "outputs": [],
   "source": [
    "# plt.close(\"all\")\n",
    "# # plt.tight_layout()\n",
    "# fig, ax = plt.subplots(2, 1, figsize=(10, 10), gridspec_kw={'height_ratios': [1, 3]})\n",
    "# plot_frame(frames_to_plot[0])"
   ]
  },
  {
   "cell_type": "code",
   "execution_count": 46,
   "metadata": {},
   "outputs": [
    {
     "name": "stderr",
     "output_type": "stream",
     "text": [
      "/users/prannay/miniconda3/envs/vq2d/lib/python3.8/site-packages/ipywidgets/widgets/widget.py:501: DeprecationWarning: Passing unrecognized arguments to super(Toolbar).__init__().\n",
      "__init__() missing 1 required positional argument: 'canvas'\n",
      "This is deprecated in traitlets 4.2.This error will be raised in a future release of traitlets.\n",
      "  super().__init__(**kwargs)\n"
     ]
    },
    {
     "name": "stdout",
     "output_type": "stream",
     "text": [
      "72.64735102653503\n"
     ]
    }
   ],
   "source": [
    "import time\n",
    "t = time.time()\n",
    "fig, ax = plt.subplots(2, 1, figsize=(8, 8), gridspec_kw={'height_ratios': [1, 3]})\n",
    "ax[1].set_axis_off()\n",
    "animation = FuncAnimation(fig, plot_frame, frames=frames_to_plot, interval=200)\n",
    "plt.tight_layout()\n",
    "animation.save('basic_animation.gif', fps=2, writer='imagemagick', dpi=128)\n",
    "plt.close()\n",
    "print(time.time() - t)"
   ]
  },
  {
   "cell_type": "code",
   "execution_count": 87,
   "metadata": {},
   "outputs": [
    {
     "name": "stderr",
     "output_type": "stream",
     "text": [
      "/users/prannay/miniconda3/envs/vq2d/lib/python3.8/site-packages/ipywidgets/widgets/widget.py:501: DeprecationWarning: Passing unrecognized arguments to super(Toolbar).__init__().\n",
      "__init__() missing 1 required positional argument: 'canvas'\n",
      "This is deprecated in traitlets 4.2.This error will be raised in a future release of traitlets.\n",
      "  super().__init__(**kwargs)\n"
     ]
    },
    {
     "name": "stdout",
     "output_type": "stream",
     "text": [
      "14.784685134887695\n"
     ]
    }
   ],
   "source": [
    "t = time.time()\n",
    "fig, ax = plt.subplots(2, 1, figsize=(8, 8), gridspec_kw={'height_ratios': [1, 3]})\n",
    "ax[1].set_axis_off()\n",
    "animation = FuncAnimation(fig, plot_frame, frames=frames_to_plot, interval=200)\n",
    "plt.tight_layout()\n",
    "ani_writer = mplani.PillowWriter(fps=2, metadata={\"dpi\": 256}, bitrate=720)\n",
    "animation.save(f\"/scratch/shared/beegfs/prannay/ego4d_data/ckpt/perframe_run/inference_vq2d_val_pos_neg_strict_frame_vc/gifs/{duid_to_plot}.gif\", writer=ani_writer)\n",
    "plt.close()\n",
    "print(time.time() - t)"
   ]
  },
  {
   "cell_type": "code",
   "execution_count": 89,
   "metadata": {},
   "outputs": [],
   "source": [
    "from multiprocessing import Pool\n",
    "from functools import partial"
   ]
  },
  {
   "cell_type": "code",
   "execution_count": 96,
   "metadata": {},
   "outputs": [],
   "source": [
    "def f(duid):\n",
    "    frames = create_frames_from_duid(duid, gt_coco, duid2highest)\n",
    "    # print(len(frames))\n",
    "    fig, ax = plt.subplots(2, 1, figsize=(8, 8), gridspec_kw={'height_ratios': [1, 3]})\n",
    "    ax[1].set_axis_off()\n",
    "    anim = FuncAnimation(fig, partial(plot_frame, ax=ax), frames=frames, interval=500)\n",
    "    # plt.tight_layout()\n",
    "    ani_writer = mplani.PillowWriter(fps=2, metadata={\"dpi\": 256}, bitrate=720)\n",
    "    file_name = f\"/scratch/shared/beegfs/prannay/ego4d_data/ckpt/perframe_run/inference_vq2d_val_pos_neg_strict_frame_vc/gifs/{duid}.gif\"\n",
    "    anim.save(file_name, writer=ani_writer)\n",
    "    plt.close()\n",
    "    return duid"
   ]
  },
  {
   "cell_type": "code",
   "execution_count": 97,
   "metadata": {},
   "outputs": [
    {
     "name": "stderr",
     "output_type": "stream",
     "text": [
      "/users/prannay/miniconda3/envs/vq2d/lib/python3.8/site-packages/ipywidgets/widgets/widget.py:501: DeprecationWarning: Passing unrecognized arguments to super(Toolbar).__init__().\n",
      "__init__() missing 1 required positional argument: 'canvas'\n",
      "This is deprecated in traitlets 4.2.This error will be raised in a future release of traitlets.\n",
      "  super().__init__(**kwargs)\n"
     ]
    },
    {
     "data": {
      "text/plain": [
       "'val_0000000001'"
      ]
     },
     "execution_count": 97,
     "metadata": {},
     "output_type": "execute_result"
    }
   ],
   "source": [
    "f(sorted(duids)[1])"
   ]
  },
  {
   "cell_type": "code",
   "execution_count": 98,
   "metadata": {},
   "outputs": [],
   "source": [
    "# for duid in tqdm(sorted(duids), total=len(duids)):\n",
    "#     frames_to_plot = create_frames_from_duid(duid_to_plot, gt_coco, duid2highest)\n",
    "#     fig, ax = plt.subplots(2, 1, figsize=(8, 8), gridspec_kw={'height_ratios': [1, 3]})\n",
    "#     ax[1].set_axis_off()\n",
    "#     animation = FuncAnimation(fig, plot_frame, frames=frames_to_plot, interval=200)\n",
    "#     plt.tight_layout()\n",
    "#     ani_writer = mplani.PillowWriter(fps=2, metadata={\"dpi\": 256}, bitrate=720)\n",
    "#     file_name = f\"/scratch/shared/beegfs/prannay/ego4d_data/ckpt/perframe_run/inference_vq2d_val_pos_neg_strict_frame_vc/gifs/{duid}.gif\"\n",
    "#     animation.save(file_name, writer=ani_writer)\n",
    "#     plt.close()"
   ]
  },
  {
   "cell_type": "code",
   "execution_count": 103,
   "metadata": {},
   "outputs": [],
   "source": [
    "plt.close(\"all\")"
   ]
  },
  {
   "cell_type": "code",
   "execution_count": 104,
   "metadata": {},
   "outputs": [
    {
     "data": {
      "application/vnd.jupyter.widget-view+json": {
       "model_id": "500b755eedad474d8b0e89a059865082",
       "version_major": 2,
       "version_minor": 0
      },
      "text/plain": [
       "  0%|          | 0/4504 [00:00<?, ?it/s]"
      ]
     },
     "metadata": {},
     "output_type": "display_data"
    }
   ],
   "source": [
    "with Pool(24) as p:\n",
    "    _ = list(p.imap(f, tqdm(sorted(duids))))"
   ]
  }
 ],
 "metadata": {
  "kernelspec": {
   "display_name": "Python 3 (ipykernel)",
   "language": "python",
   "name": "python3"
  },
  "language_info": {
   "codemirror_mode": {
    "name": "ipython",
    "version": 3
   },
   "file_extension": ".py",
   "mimetype": "text/x-python",
   "name": "python",
   "nbconvert_exporter": "python",
   "pygments_lexer": "ipython3",
   "version": "3.8.16"
  }
 },
 "nbformat": 4,
 "nbformat_minor": 4
}
